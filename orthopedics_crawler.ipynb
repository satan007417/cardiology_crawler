{
 "cells": [
  {
   "cell_type": "code",
   "execution_count": null,
   "metadata": {
    "scrolled": true
   },
   "outputs": [],
   "source": [
    "#!/usr/bin/env python\n",
    "# coding: utf-8\n",
    "\n",
    "# In[8]:\n",
    "\n",
    "\n",
    "from bs4 import BeautifulSoup\n",
    "import requests\n",
    "from itertools import chain\n",
    "\n",
    "\n",
    "# In[312]:\n",
    "\n",
    "\n",
    "def parse(response):\n",
    "    data = requests.get(response)\n",
    "    domain = 'https://sp1.hso.mohw.gov.tw/doctor/All/'\n",
    "    sp = BeautifulSoup(data.text)\n",
    "    sp1 = sp.select('.table1')\n",
    "    s2 = [s.find_all('a') for s in sp1]\n",
    "    s3 = [s.text.split(',') for s in s2[0]]\n",
    "    s4=list(chain(*s3))\n",
    "    l=(len(s4))\n",
    "\n",
    "    sp3=[]\n",
    "    for k in range(l-3):\n",
    "        sp2 = [s.select('a')[k]['href'] for s in sp1]\n",
    "        sp3.append(sp2)\n",
    "    \n",
    "    sp4=list(chain(*sp3))\n",
    "    for e in sp4:\n",
    "        parse_detail(domain + e)\n",
    "\n",
    "def parse_detail(response):\n",
    "    data = requests.get(response)\n",
    "    data.encoding = 'big5'\n",
    "    d = BeautifulSoup(data.text)\n",
    "    d1 = d.find(\"li\", {\"class\": \"ask\"})\n",
    "    d2 = d1.text\n",
    "    #print(d2)\n",
    "    with open(\"orthopedics.txt\", \"a\", encoding = 'utf-8') as f:\n",
    "        f.write('**Q**' + '\\n' + d2 + '\\n')\n",
    "            \n",
    "    da1 = d.find(\"li\", {\"class\": \"ans\"})\n",
    "    da2 = da1.text\n",
    "    with open(\"orthopedics.txt\", \"a\", encoding = 'utf-8') as f:\n",
    "        f.write('**A**' + '\\n' + da2 + '\\n')\n",
    "        f.write('**************************************'+'\\n')\n",
    "        f.close()\n",
    "\n",
    "\n",
    "# In[311]:\n",
    "\n",
    "\n",
    "if __name__ == '__main__':\n",
    "    i=1\n",
    "    while(i<=333):\n",
    "        start_urls = \"https://sp1.hso.mohw.gov.tw/doctor/All/history.php?UrlClass=%B0%A9%AC%EC&SortBy=q_no&PageNo=\"+str(i)+\"\"\n",
    "        parse(start_urls)\n",
    "        i+=1\n",
    "\n"
   ]
  },
  {
   "cell_type": "code",
   "execution_count": 30,
   "metadata": {},
   "outputs": [
    {
     "name": "stdout",
     "output_type": "stream",
     "text": [
      "<class 'str'>\n"
     ]
    }
   ],
   "source": []
  }
 ],
 "metadata": {
  "kernelspec": {
   "display_name": "Python 3",
   "language": "python",
   "name": "python3"
  },
  "language_info": {
   "codemirror_mode": {
    "name": "ipython",
    "version": 3
   },
   "file_extension": ".py",
   "mimetype": "text/x-python",
   "name": "python",
   "nbconvert_exporter": "python",
   "pygments_lexer": "ipython3",
   "version": "3.6.7"
  }
 },
 "nbformat": 4,
 "nbformat_minor": 2
}
